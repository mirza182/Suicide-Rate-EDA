{
 "cells": [
  {
   "cell_type": "code",
   "execution_count": 1,
   "metadata": {},
   "outputs": [],
   "source": [
    "#Let's import the necessary libraries first\n",
    "import pandas as pd\n",
    "import numpy as np\n",
    "import seaborn as sns\n",
    "import matplotlib.pyplot as plt\n",
    "import scipy.stats as stats\n"
   ]
  },
  {
   "cell_type": "code",
   "execution_count": 2,
   "metadata": {},
   "outputs": [],
   "source": [
    "#Let's read the csv file first\n",
    "data = pd.read_csv(\"master.csv\")"
   ]
  },
  {
   "cell_type": "code",
   "execution_count": 3,
   "metadata": {},
   "outputs": [
    {
     "data": {
      "text/html": [
       "<div>\n",
       "<style scoped>\n",
       "    .dataframe tbody tr th:only-of-type {\n",
       "        vertical-align: middle;\n",
       "    }\n",
       "\n",
       "    .dataframe tbody tr th {\n",
       "        vertical-align: top;\n",
       "    }\n",
       "\n",
       "    .dataframe thead th {\n",
       "        text-align: right;\n",
       "    }\n",
       "</style>\n",
       "<table border=\"1\" class=\"dataframe\">\n",
       "  <thead>\n",
       "    <tr style=\"text-align: right;\">\n",
       "      <th></th>\n",
       "      <th>country</th>\n",
       "      <th>year</th>\n",
       "      <th>sex</th>\n",
       "      <th>age</th>\n",
       "      <th>suicides_no</th>\n",
       "      <th>population</th>\n",
       "      <th>suicides/100k pop</th>\n",
       "      <th>country-year</th>\n",
       "      <th>HDI for year</th>\n",
       "      <th>gdp_for_year ($)</th>\n",
       "      <th>gdp_per_capita ($)</th>\n",
       "      <th>generation</th>\n",
       "    </tr>\n",
       "  </thead>\n",
       "  <tbody>\n",
       "    <tr>\n",
       "      <th>0</th>\n",
       "      <td>Albania</td>\n",
       "      <td>1987</td>\n",
       "      <td>male</td>\n",
       "      <td>15-24 years</td>\n",
       "      <td>21</td>\n",
       "      <td>312900</td>\n",
       "      <td>6.71</td>\n",
       "      <td>Albania1987</td>\n",
       "      <td>NaN</td>\n",
       "      <td>2156624900.00</td>\n",
       "      <td>796.0</td>\n",
       "      <td>Generation X</td>\n",
       "    </tr>\n",
       "    <tr>\n",
       "      <th>1</th>\n",
       "      <td>Albania</td>\n",
       "      <td>1987</td>\n",
       "      <td>male</td>\n",
       "      <td>35-54 years</td>\n",
       "      <td>16</td>\n",
       "      <td>308000</td>\n",
       "      <td>5.19</td>\n",
       "      <td>Albania1987</td>\n",
       "      <td>NaN</td>\n",
       "      <td>2156624900.00</td>\n",
       "      <td>796.0</td>\n",
       "      <td>Silent</td>\n",
       "    </tr>\n",
       "    <tr>\n",
       "      <th>2</th>\n",
       "      <td>Albania</td>\n",
       "      <td>1987</td>\n",
       "      <td>female</td>\n",
       "      <td>15-24 years</td>\n",
       "      <td>14</td>\n",
       "      <td>289700</td>\n",
       "      <td>4.83</td>\n",
       "      <td>Albania1987</td>\n",
       "      <td>NaN</td>\n",
       "      <td>2156624900.00</td>\n",
       "      <td>796.0</td>\n",
       "      <td>Generation X</td>\n",
       "    </tr>\n",
       "    <tr>\n",
       "      <th>3</th>\n",
       "      <td>Albania</td>\n",
       "      <td>1987</td>\n",
       "      <td>male</td>\n",
       "      <td>75+ years</td>\n",
       "      <td>1</td>\n",
       "      <td>21800</td>\n",
       "      <td>4.59</td>\n",
       "      <td>Albania1987</td>\n",
       "      <td>NaN</td>\n",
       "      <td>2156624900.00</td>\n",
       "      <td>796.0</td>\n",
       "      <td>G.I. Generation</td>\n",
       "    </tr>\n",
       "    <tr>\n",
       "      <th>4</th>\n",
       "      <td>Albania</td>\n",
       "      <td>1987</td>\n",
       "      <td>male</td>\n",
       "      <td>25-34 years</td>\n",
       "      <td>9</td>\n",
       "      <td>274300</td>\n",
       "      <td>3.28</td>\n",
       "      <td>Albania1987</td>\n",
       "      <td>NaN</td>\n",
       "      <td>2156624900.00</td>\n",
       "      <td>796.0</td>\n",
       "      <td>Boomers</td>\n",
       "    </tr>\n",
       "  </tbody>\n",
       "</table>\n",
       "</div>"
      ],
      "text/plain": [
       "   country  year     sex          age  suicides_no  population  \\\n",
       "0  Albania  1987    male  15-24 years           21      312900   \n",
       "1  Albania  1987    male  35-54 years           16      308000   \n",
       "2  Albania  1987  female  15-24 years           14      289700   \n",
       "3  Albania  1987    male    75+ years            1       21800   \n",
       "4  Albania  1987    male  25-34 years            9      274300   \n",
       "\n",
       "   suicides/100k pop country-year  HDI for year  gdp_for_year ($)   \\\n",
       "0               6.71  Albania1987           NaN      2156624900.00   \n",
       "1               5.19  Albania1987           NaN      2156624900.00   \n",
       "2               4.83  Albania1987           NaN      2156624900.00   \n",
       "3               4.59  Albania1987           NaN      2156624900.00   \n",
       "4               3.28  Albania1987           NaN      2156624900.00   \n",
       "\n",
       "   gdp_per_capita ($)       generation  \n",
       "0               796.0     Generation X  \n",
       "1               796.0           Silent  \n",
       "2               796.0     Generation X  \n",
       "3               796.0  G.I. Generation  \n",
       "4               796.0          Boomers  "
      ]
     },
     "execution_count": 3,
     "metadata": {},
     "output_type": "execute_result"
    }
   ],
   "source": [
    "#Let's see what we have in our data\n",
    "data.head()"
   ]
  },
  {
   "cell_type": "code",
   "execution_count": 4,
   "metadata": {},
   "outputs": [
    {
     "data": {
      "text/plain": [
       "Index(['country', 'year', 'sex', 'age', 'suicides_no', 'population',\n",
       "       'suicides/100k pop', 'country-year', 'HDI for year',\n",
       "       ' gdp_for_year ($) ', 'gdp_per_capita ($)', 'generation'],\n",
       "      dtype='object')"
      ]
     },
     "execution_count": 4,
     "metadata": {},
     "output_type": "execute_result"
    }
   ],
   "source": [
    "#Let's see the columns we have\n",
    "data.columns"
   ]
  },
  {
   "cell_type": "code",
   "execution_count": 5,
   "metadata": {},
   "outputs": [
    {
     "name": "stdout",
     "output_type": "stream",
     "text": [
      "               year   suicides_no    population  suicides/100k pop  \\\n",
      "count  27820.000000  27820.000000  2.782000e+04       27820.000000   \n",
      "mean    2001.258375    242.574407  1.844794e+06          12.816097   \n",
      "std        8.469055    902.047917  3.911779e+06          18.961511   \n",
      "min     1985.000000      0.000000  2.780000e+02           0.000000   \n",
      "25%     1995.000000      3.000000  9.749850e+04           0.920000   \n",
      "50%     2002.000000     25.000000  4.301500e+05           5.990000   \n",
      "75%     2008.000000    131.000000  1.486143e+06          16.620000   \n",
      "max     2016.000000  22338.000000  4.380521e+07         224.970000   \n",
      "\n",
      "       HDI for year  gdp_per_capita ($)  \n",
      "count   8364.000000        27820.000000  \n",
      "mean       0.776601        16866.464414  \n",
      "std        0.093367        18887.576472  \n",
      "min        0.483000          251.000000  \n",
      "25%        0.713000         3447.000000  \n",
      "50%        0.779000         9372.000000  \n",
      "75%        0.855000        24874.000000  \n",
      "max        0.944000       126352.000000  \n"
     ]
    }
   ],
   "source": [
    "#Now let's see some statistics about our data\n",
    "#Below are some summary of statistics for our data\n",
    "print(data.describe())"
   ]
  },
  {
   "cell_type": "code",
   "execution_count": 6,
   "metadata": {},
   "outputs": [
    {
     "data": {
      "text/plain": [
       "(27820, 12)"
      ]
     },
     "execution_count": 6,
     "metadata": {},
     "output_type": "execute_result"
    }
   ],
   "source": [
    "data.shape"
   ]
  },
  {
   "cell_type": "code",
   "execution_count": 7,
   "metadata": {},
   "outputs": [
    {
     "data": {
      "text/plain": [
       "country                0.000000\n",
       "year                   0.000000\n",
       "sex                    0.000000\n",
       "age                    0.000000\n",
       "suicides_no            0.000000\n",
       "population             0.000000\n",
       "suicides/100k pop      0.000000\n",
       "country-year           0.000000\n",
       "HDI for year          69.935298\n",
       " gdp_for_year ($)      0.000000\n",
       "gdp_per_capita ($)     0.000000\n",
       "generation             0.000000\n",
       "dtype: float64"
      ]
     },
     "execution_count": 7,
     "metadata": {},
     "output_type": "execute_result"
    }
   ],
   "source": [
    "'''Upon lookin the null values we can see that almost 70% of the data\n",
    "in \"HDI for year\" column is missing so we can drop this particular column\n",
    "If the percentage is low we could use mean, median to replace the nulls with those values '''\n",
    "\n",
    "((data.isnull().sum())*100)/27820\n"
   ]
  },
  {
   "cell_type": "code",
   "execution_count": 8,
   "metadata": {},
   "outputs": [
    {
     "data": {
      "text/html": [
       "<div>\n",
       "<style scoped>\n",
       "    .dataframe tbody tr th:only-of-type {\n",
       "        vertical-align: middle;\n",
       "    }\n",
       "\n",
       "    .dataframe tbody tr th {\n",
       "        vertical-align: top;\n",
       "    }\n",
       "\n",
       "    .dataframe thead th {\n",
       "        text-align: right;\n",
       "    }\n",
       "</style>\n",
       "<table border=\"1\" class=\"dataframe\">\n",
       "  <thead>\n",
       "    <tr style=\"text-align: right;\">\n",
       "      <th></th>\n",
       "      <th>country</th>\n",
       "      <th>year</th>\n",
       "      <th>sex</th>\n",
       "      <th>age</th>\n",
       "      <th>suicides_no</th>\n",
       "      <th>population</th>\n",
       "      <th>suicides/100k pop</th>\n",
       "      <th>country-year</th>\n",
       "      <th>gdp_for_year ($)</th>\n",
       "      <th>gdp_per_capita ($)</th>\n",
       "      <th>generation</th>\n",
       "    </tr>\n",
       "  </thead>\n",
       "  <tbody>\n",
       "    <tr>\n",
       "      <th>0</th>\n",
       "      <td>Albania</td>\n",
       "      <td>1987</td>\n",
       "      <td>male</td>\n",
       "      <td>15-24 years</td>\n",
       "      <td>21</td>\n",
       "      <td>312900</td>\n",
       "      <td>6.71</td>\n",
       "      <td>Albania1987</td>\n",
       "      <td>2156624900.00</td>\n",
       "      <td>796.0</td>\n",
       "      <td>Generation X</td>\n",
       "    </tr>\n",
       "    <tr>\n",
       "      <th>1</th>\n",
       "      <td>Albania</td>\n",
       "      <td>1987</td>\n",
       "      <td>male</td>\n",
       "      <td>35-54 years</td>\n",
       "      <td>16</td>\n",
       "      <td>308000</td>\n",
       "      <td>5.19</td>\n",
       "      <td>Albania1987</td>\n",
       "      <td>2156624900.00</td>\n",
       "      <td>796.0</td>\n",
       "      <td>Silent</td>\n",
       "    </tr>\n",
       "    <tr>\n",
       "      <th>2</th>\n",
       "      <td>Albania</td>\n",
       "      <td>1987</td>\n",
       "      <td>female</td>\n",
       "      <td>15-24 years</td>\n",
       "      <td>14</td>\n",
       "      <td>289700</td>\n",
       "      <td>4.83</td>\n",
       "      <td>Albania1987</td>\n",
       "      <td>2156624900.00</td>\n",
       "      <td>796.0</td>\n",
       "      <td>Generation X</td>\n",
       "    </tr>\n",
       "    <tr>\n",
       "      <th>3</th>\n",
       "      <td>Albania</td>\n",
       "      <td>1987</td>\n",
       "      <td>male</td>\n",
       "      <td>75+ years</td>\n",
       "      <td>1</td>\n",
       "      <td>21800</td>\n",
       "      <td>4.59</td>\n",
       "      <td>Albania1987</td>\n",
       "      <td>2156624900.00</td>\n",
       "      <td>796.0</td>\n",
       "      <td>G.I. Generation</td>\n",
       "    </tr>\n",
       "    <tr>\n",
       "      <th>4</th>\n",
       "      <td>Albania</td>\n",
       "      <td>1987</td>\n",
       "      <td>male</td>\n",
       "      <td>25-34 years</td>\n",
       "      <td>9</td>\n",
       "      <td>274300</td>\n",
       "      <td>3.28</td>\n",
       "      <td>Albania1987</td>\n",
       "      <td>2156624900.00</td>\n",
       "      <td>796.0</td>\n",
       "      <td>Boomers</td>\n",
       "    </tr>\n",
       "  </tbody>\n",
       "</table>\n",
       "</div>"
      ],
      "text/plain": [
       "   country  year     sex          age  suicides_no  population  \\\n",
       "0  Albania  1987    male  15-24 years           21      312900   \n",
       "1  Albania  1987    male  35-54 years           16      308000   \n",
       "2  Albania  1987  female  15-24 years           14      289700   \n",
       "3  Albania  1987    male    75+ years            1       21800   \n",
       "4  Albania  1987    male  25-34 years            9      274300   \n",
       "\n",
       "   suicides/100k pop country-year  gdp_for_year ($)   gdp_per_capita ($)  \\\n",
       "0               6.71  Albania1987      2156624900.00               796.0   \n",
       "1               5.19  Albania1987      2156624900.00               796.0   \n",
       "2               4.83  Albania1987      2156624900.00               796.0   \n",
       "3               4.59  Albania1987      2156624900.00               796.0   \n",
       "4               3.28  Albania1987      2156624900.00               796.0   \n",
       "\n",
       "        generation  \n",
       "0     Generation X  \n",
       "1           Silent  \n",
       "2     Generation X  \n",
       "3  G.I. Generation  \n",
       "4          Boomers  "
      ]
     },
     "execution_count": 8,
     "metadata": {},
     "output_type": "execute_result"
    }
   ],
   "source": [
    "# Drop the \"HDI for year\" column and store the remaining in a new dataframe \"df\"\n",
    "df = data.drop([\"HDI for year\"], axis=1, )\n",
    "df.head()"
   ]
  },
  {
   "cell_type": "markdown",
   "metadata": {},
   "source": [
    "## Is the suicide rate more prominent in some age categories than others?\n"
   ]
  },
  {
   "cell_type": "code",
   "execution_count": 9,
   "metadata": {},
   "outputs": [
    {
     "data": {
      "image/png": "[encoded data removed]",
      "text/plain": [
       "<Figure size 640x480 with 1 Axes>"
      ]
     },
     "metadata": {},
     "output_type": "display_data"
    }
   ],
   "source": [
    "# Let's consider two variable for this\n",
    "# first the suicide rate and secondly the age groups\n",
    "\n",
    "#Barplot\n",
    "x = df[\"age\"]\n",
    "y = df[\"suicides/100k pop\"]\n",
    "\n",
    "sns.barplot(data=df, x=x, y=y)\n",
    "#plt.ylim(np.min(y), np.max(y))\n",
    "plt.xlabel('Age Group')\n",
    "plt.ylabel('Suicide Rate')\n",
    "plt.title('Suicide Rate by Age Group')\n",
    "plt.show()\n",
    "\n",
    "\n"
   ]
  },
  {
   "cell_type": "code",
   "execution_count": 10,
   "metadata": {},
   "outputs": [
    {
     "data": {
      "image/png": "[encoded data removed]",
      "text/plain": [
       "<Figure size 640x480 with 1 Axes>"
      ]
     },
     "metadata": {},
     "output_type": "display_data"
    },
    {
     "data": {
      "text/plain": [
       "' It is quite evident from the plots that as the age-group increases the suicide rate also potentially \\nincreases and the highest number of suicides being in the age group of people who are 75+'"
      ]
     },
     "execution_count": 10,
     "metadata": {},
     "output_type": "execute_result"
    }
   ],
   "source": [
    "\n",
    "#ScatterPlot\n",
    "x = df[\"age\"]\n",
    "y = df[\"suicides/100k pop\"]\n",
    "\n",
    "sns.scatterplot(data=df, x=x, y=y)\n",
    "plt.xlabel('Age Group')\n",
    "plt.ylabel('Suicide Rate')\n",
    "plt.title('Suicide Rate by Age Group')\n",
    "plt.show()\n",
    "\n",
    "''' It is quite evident from the plots that as the age-group increases the suicide rate also potentially \n",
    "increases and the highest number of suicides being in the age group of people who are 75+'''"
   ]
  },
  {
   "cell_type": "code",
   "execution_count": 11,
   "metadata": {},
   "outputs": [],
   "source": [
    "# Age = df['age'] == '15-24 years'\n",
    "# np.average(Age)"
   ]
  },
  {
   "cell_type": "code",
   "execution_count": 12,
   "metadata": {},
   "outputs": [],
   "source": [
    "# Age1= df['age']\n",
    "# Age1 = Age1.value_counts\n",
    "# print(Age1)"
   ]
  },
  {
   "cell_type": "markdown",
   "metadata": {},
   "source": [
    "## Which countries have the most and the least number of suicides?\n"
   ]
  },
  {
   "cell_type": "code",
   "execution_count": 13,
   "metadata": {},
   "outputs": [
    {
     "data": {
      "text/plain": [
       "382"
      ]
     },
     "execution_count": 13,
     "metadata": {},
     "output_type": "execute_result"
    }
   ],
   "source": [
    "countries = df['country']\n",
    "countries.head()\n",
    "x = countries.value_counts()\n",
    "np.max(x)\n"
   ]
  },
  {
   "cell_type": "code",
   "execution_count": 14,
   "metadata": {},
   "outputs": [
    {
     "data": {
      "text/html": [
       "<div>\n",
       "<style scoped>\n",
       "    .dataframe tbody tr th:only-of-type {\n",
       "        vertical-align: middle;\n",
       "    }\n",
       "\n",
       "    .dataframe tbody tr th {\n",
       "        vertical-align: top;\n",
       "    }\n",
       "\n",
       "    .dataframe thead th {\n",
       "        text-align: right;\n",
       "    }\n",
       "</style>\n",
       "<table border=\"1\" class=\"dataframe\">\n",
       "  <thead>\n",
       "    <tr style=\"text-align: right;\">\n",
       "      <th></th>\n",
       "      <th>country</th>\n",
       "      <th>year</th>\n",
       "      <th>sex</th>\n",
       "      <th>age</th>\n",
       "      <th>suicides_no</th>\n",
       "      <th>population</th>\n",
       "      <th>suicides/100k pop</th>\n",
       "      <th>country-year</th>\n",
       "      <th>gdp_for_year ($)</th>\n",
       "      <th>gdp_per_capita ($)</th>\n",
       "      <th>generation</th>\n",
       "    </tr>\n",
       "  </thead>\n",
       "  <tbody>\n",
       "    <tr>\n",
       "      <th>0</th>\n",
       "      <td>Albania</td>\n",
       "      <td>1987</td>\n",
       "      <td>male</td>\n",
       "      <td>15-24 years</td>\n",
       "      <td>21</td>\n",
       "      <td>312900</td>\n",
       "      <td>6.71</td>\n",
       "      <td>Albania1987</td>\n",
       "      <td>2156624900.00</td>\n",
       "      <td>796.0</td>\n",
       "      <td>Generation X</td>\n",
       "    </tr>\n",
       "    <tr>\n",
       "      <th>1</th>\n",
       "      <td>Albania</td>\n",
       "      <td>1987</td>\n",
       "      <td>male</td>\n",
       "      <td>35-54 years</td>\n",
       "      <td>16</td>\n",
       "      <td>308000</td>\n",
       "      <td>5.19</td>\n",
       "      <td>Albania1987</td>\n",
       "      <td>2156624900.00</td>\n",
       "      <td>796.0</td>\n",
       "      <td>Silent</td>\n",
       "    </tr>\n",
       "    <tr>\n",
       "      <th>2</th>\n",
       "      <td>Albania</td>\n",
       "      <td>1987</td>\n",
       "      <td>female</td>\n",
       "      <td>15-24 years</td>\n",
       "      <td>14</td>\n",
       "      <td>289700</td>\n",
       "      <td>4.83</td>\n",
       "      <td>Albania1987</td>\n",
       "      <td>2156624900.00</td>\n",
       "      <td>796.0</td>\n",
       "      <td>Generation X</td>\n",
       "    </tr>\n",
       "    <tr>\n",
       "      <th>3</th>\n",
       "      <td>Albania</td>\n",
       "      <td>1987</td>\n",
       "      <td>male</td>\n",
       "      <td>75+ years</td>\n",
       "      <td>1</td>\n",
       "      <td>21800</td>\n",
       "      <td>4.59</td>\n",
       "      <td>Albania1987</td>\n",
       "      <td>2156624900.00</td>\n",
       "      <td>796.0</td>\n",
       "      <td>G.I. Generation</td>\n",
       "    </tr>\n",
       "    <tr>\n",
       "      <th>4</th>\n",
       "      <td>Albania</td>\n",
       "      <td>1987</td>\n",
       "      <td>male</td>\n",
       "      <td>25-34 years</td>\n",
       "      <td>9</td>\n",
       "      <td>274300</td>\n",
       "      <td>3.28</td>\n",
       "      <td>Albania1987</td>\n",
       "      <td>2156624900.00</td>\n",
       "      <td>796.0</td>\n",
       "      <td>Boomers</td>\n",
       "    </tr>\n",
       "  </tbody>\n",
       "</table>\n",
       "</div>"
      ],
      "text/plain": [
       "   country  year     sex          age  suicides_no  population  \\\n",
       "0  Albania  1987    male  15-24 years           21      312900   \n",
       "1  Albania  1987    male  35-54 years           16      308000   \n",
       "2  Albania  1987  female  15-24 years           14      289700   \n",
       "3  Albania  1987    male    75+ years            1       21800   \n",
       "4  Albania  1987    male  25-34 years            9      274300   \n",
       "\n",
       "   suicides/100k pop country-year  gdp_for_year ($)   gdp_per_capita ($)  \\\n",
       "0               6.71  Albania1987      2156624900.00               796.0   \n",
       "1               5.19  Albania1987      2156624900.00               796.0   \n",
       "2               4.83  Albania1987      2156624900.00               796.0   \n",
       "3               4.59  Albania1987      2156624900.00               796.0   \n",
       "4               3.28  Albania1987      2156624900.00               796.0   \n",
       "\n",
       "        generation  \n",
       "0     Generation X  \n",
       "1           Silent  \n",
       "2     Generation X  \n",
       "3  G.I. Generation  \n",
       "4          Boomers  "
      ]
     },
     "execution_count": 14,
     "metadata": {},
     "output_type": "execute_result"
    }
   ],
   "source": [
    "df.head()"
   ]
  },
  {
   "cell_type": "code",
   "execution_count": 15,
   "metadata": {},
   "outputs": [
    {
     "name": "stdout",
     "output_type": "stream",
     "text": [
      "Albania\n",
      "Antigua and Barbuda\n",
      "Argentina\n",
      "Armenia\n",
      "Aruba\n",
      "Australia\n",
      "Austria\n",
      "Azerbaijan\n",
      "Bahamas\n",
      "Bahrain\n",
      "Barbados\n",
      "Belarus\n",
      "Belgium\n",
      "Belize\n",
      "Bosnia and Herzegovina\n",
      "Brazil\n",
      "Bulgaria\n",
      "Cabo Verde\n",
      "Canada\n",
      "Chile\n",
      "Colombia\n",
      "Costa Rica\n",
      "Croatia\n",
      "Cuba\n",
      "Cyprus\n",
      "Czech Republic\n",
      "Denmark\n",
      "Dominica\n",
      "Ecuador\n",
      "El Salvador\n",
      "Estonia\n",
      "Fiji\n",
      "Finland\n",
      "France\n",
      "Georgia\n",
      "Germany\n",
      "Greece\n",
      "Grenada\n",
      "Guatemala\n",
      "Guyana\n",
      "Hungary\n",
      "Iceland\n",
      "Ireland\n",
      "Israel\n",
      "Italy\n",
      "Jamaica\n",
      "Japan\n",
      "Kazakhstan\n",
      "Kiribati\n",
      "Kuwait\n",
      "Kyrgyzstan\n",
      "Latvia\n",
      "Lithuania\n",
      "Luxembourg\n",
      "Macau\n",
      "Maldives\n",
      "Malta\n",
      "Mauritius\n",
      "Mexico\n",
      "Mongolia\n",
      "Montenegro\n",
      "Netherlands\n",
      "New Zealand\n",
      "Nicaragua\n",
      "Norway\n",
      "Oman\n",
      "Panama\n",
      "Paraguay\n",
      "Philippines\n",
      "Poland\n",
      "Portugal\n",
      "Puerto Rico\n",
      "Qatar\n",
      "Republic of Korea\n",
      "Romania\n",
      "Russian Federation\n",
      "Saint Kitts and Nevis\n",
      "Saint Lucia\n",
      "Saint Vincent and Grenadines\n",
      "San Marino\n",
      "Serbia\n",
      "Seychelles\n",
      "Singapore\n",
      "Slovakia\n",
      "Slovenia\n",
      "South Africa\n",
      "Spain\n",
      "Sri Lanka\n",
      "Suriname\n",
      "Sweden\n",
      "Switzerland\n",
      "Thailand\n",
      "Trinidad and Tobago\n",
      "Turkey\n",
      "Turkmenistan\n",
      "Ukraine\n",
      "United Arab Emirates\n",
      "United Kingdom\n",
      "United States\n",
      "Uruguay\n",
      "Uzbekistan\n",
      "Total Countries are 101\n"
     ]
    }
   ],
   "source": [
    "new_df = df.loc[:, ['suicides_no', 'country']]\n",
    "data = new_df['country'].unique()\n",
    "\n",
    "total = 0\n",
    "for i in data:\n",
    "    print(i)\n",
    "    total = total + 1\n",
    "    \n",
    "print(\"Total Countries are \" + str(total))\n",
    "\n"
   ]
  },
  {
   "cell_type": "code",
   "execution_count": 16,
   "metadata": {},
   "outputs": [
    {
     "data": {
      "text/plain": [
       "country\n",
       "Albania                    1970\n",
       "Antigua and Barbuda          11\n",
       "Argentina                 82219\n",
       "Armenia                    1905\n",
       "Aruba                       101\n",
       "                         ...   \n",
       "United Arab Emirates        622\n",
       "United Kingdom           136805\n",
       "United States           1034013\n",
       "Uruguay                   13138\n",
       "Uzbekistan                34803\n",
       "Name: suicides_no, Length: 101, dtype: int64"
      ]
     },
     "execution_count": 16,
     "metadata": {},
     "output_type": "execute_result"
    }
   ],
   "source": [
    "country_suicides = df.groupby('country')['suicides_no'].sum()\n",
    "country_suicides\n",
    "\n"
   ]
  },
  {
   "cell_type": "code",
   "execution_count": 17,
   "metadata": {},
   "outputs": [
    {
     "name": "stdout",
     "output_type": "stream",
     "text": [
      "Country with the maximum number of suicides is Dominica with 0 suicides \n",
      "Country with the maximum number of suicides is Russian Federation with 1209742 suicides \n"
     ]
    },
    {
     "data": {
      "text/plain": [
       "' Russian Federation has the most number of suicides with 1209742 suicides from 1986-2016.\\nWe can see that on average their were almost \"39023\" suicides in Russia in a year \"\\nSuicides_no / total years (31) '"
      ]
     },
     "execution_count": 17,
     "metadata": {},
     "output_type": "execute_result"
    }
   ],
   "source": [
    "Max_suicides = country_suicides.idxmax()\n",
    "country_suicides[Max_suicides]\n",
    "Min_suicides = country_suicides.idxmin()\n",
    "\n",
    "print(\"Country with the maximum number of suicides is \" + Min_suicides + \" with \"+ str(country_suicides[Min_suicides]) + \" suicides \")\n",
    "print(\"Country with the maximum number of suicides is \" + Max_suicides + \" with \"+ str(country_suicides[Max_suicides]) + \" suicides \")\n",
    "\n",
    "''' Russian Federation has the most number of suicides with 1209742 suicides from 1986-2016.\n",
    "We can see that on average their were almost \"39023\" suicides in Russia in a year \"\n",
    "Suicides_no / total years (31) '''"
   ]
  },
  {
   "cell_type": "markdown",
   "metadata": {},
   "source": [
    "## What is the effect of the population on suicide rates?"
   ]
  },
  {
   "cell_type": "code",
   "execution_count": 18,
   "metadata": {},
   "outputs": [
    {
     "data": {
      "text/html": [
       "<div>\n",
       "<style scoped>\n",
       "    .dataframe tbody tr th:only-of-type {\n",
       "        vertical-align: middle;\n",
       "    }\n",
       "\n",
       "    .dataframe tbody tr th {\n",
       "        vertical-align: top;\n",
       "    }\n",
       "\n",
       "    .dataframe thead th {\n",
       "        text-align: right;\n",
       "    }\n",
       "</style>\n",
       "<table border=\"1\" class=\"dataframe\">\n",
       "  <thead>\n",
       "    <tr style=\"text-align: right;\">\n",
       "      <th></th>\n",
       "      <th>country</th>\n",
       "      <th>year</th>\n",
       "      <th>sex</th>\n",
       "      <th>age</th>\n",
       "      <th>suicides_no</th>\n",
       "      <th>population</th>\n",
       "      <th>suicides/100k pop</th>\n",
       "      <th>country-year</th>\n",
       "      <th>gdp_for_year ($)</th>\n",
       "      <th>gdp_per_capita ($)</th>\n",
       "      <th>generation</th>\n",
       "    </tr>\n",
       "  </thead>\n",
       "  <tbody>\n",
       "    <tr>\n",
       "      <th>0</th>\n",
       "      <td>Albania</td>\n",
       "      <td>1987</td>\n",
       "      <td>male</td>\n",
       "      <td>15-24 years</td>\n",
       "      <td>21</td>\n",
       "      <td>312900</td>\n",
       "      <td>6.71</td>\n",
       "      <td>Albania1987</td>\n",
       "      <td>2156624900.00</td>\n",
       "      <td>796.0</td>\n",
       "      <td>Generation X</td>\n",
       "    </tr>\n",
       "    <tr>\n",
       "      <th>1</th>\n",
       "      <td>Albania</td>\n",
       "      <td>1987</td>\n",
       "      <td>male</td>\n",
       "      <td>35-54 years</td>\n",
       "      <td>16</td>\n",
       "      <td>308000</td>\n",
       "      <td>5.19</td>\n",
       "      <td>Albania1987</td>\n",
       "      <td>2156624900.00</td>\n",
       "      <td>796.0</td>\n",
       "      <td>Silent</td>\n",
       "    </tr>\n",
       "    <tr>\n",
       "      <th>2</th>\n",
       "      <td>Albania</td>\n",
       "      <td>1987</td>\n",
       "      <td>female</td>\n",
       "      <td>15-24 years</td>\n",
       "      <td>14</td>\n",
       "      <td>289700</td>\n",
       "      <td>4.83</td>\n",
       "      <td>Albania1987</td>\n",
       "      <td>2156624900.00</td>\n",
       "      <td>796.0</td>\n",
       "      <td>Generation X</td>\n",
       "    </tr>\n",
       "    <tr>\n",
       "      <th>3</th>\n",
       "      <td>Albania</td>\n",
       "      <td>1987</td>\n",
       "      <td>male</td>\n",
       "      <td>75+ years</td>\n",
       "      <td>1</td>\n",
       "      <td>21800</td>\n",
       "      <td>4.59</td>\n",
       "      <td>Albania1987</td>\n",
       "      <td>2156624900.00</td>\n",
       "      <td>796.0</td>\n",
       "      <td>G.I. Generation</td>\n",
       "    </tr>\n",
       "    <tr>\n",
       "      <th>4</th>\n",
       "      <td>Albania</td>\n",
       "      <td>1987</td>\n",
       "      <td>male</td>\n",
       "      <td>25-34 years</td>\n",
       "      <td>9</td>\n",
       "      <td>274300</td>\n",
       "      <td>3.28</td>\n",
       "      <td>Albania1987</td>\n",
       "      <td>2156624900.00</td>\n",
       "      <td>796.0</td>\n",
       "      <td>Boomers</td>\n",
       "    </tr>\n",
       "  </tbody>\n",
       "</table>\n",
       "</div>"
      ],
      "text/plain": [
       "   country  year     sex          age  suicides_no  population  \\\n",
       "0  Albania  1987    male  15-24 years           21      312900   \n",
       "1  Albania  1987    male  35-54 years           16      308000   \n",
       "2  Albania  1987  female  15-24 years           14      289700   \n",
       "3  Albania  1987    male    75+ years            1       21800   \n",
       "4  Albania  1987    male  25-34 years            9      274300   \n",
       "\n",
       "   suicides/100k pop country-year  gdp_for_year ($)   gdp_per_capita ($)  \\\n",
       "0               6.71  Albania1987      2156624900.00               796.0   \n",
       "1               5.19  Albania1987      2156624900.00               796.0   \n",
       "2               4.83  Albania1987      2156624900.00               796.0   \n",
       "3               4.59  Albania1987      2156624900.00               796.0   \n",
       "4               3.28  Albania1987      2156624900.00               796.0   \n",
       "\n",
       "        generation  \n",
       "0     Generation X  \n",
       "1           Silent  \n",
       "2     Generation X  \n",
       "3  G.I. Generation  \n",
       "4          Boomers  "
      ]
     },
     "execution_count": 18,
     "metadata": {},
     "output_type": "execute_result"
    }
   ],
   "source": [
    "df.head()"
   ]
  },
  {
   "cell_type": "code",
   "execution_count": 19,
   "metadata": {},
   "outputs": [
    {
     "data": {
      "text/plain": [
       "0.008284973053478372"
      ]
     },
     "execution_count": 19,
     "metadata": {},
     "output_type": "execute_result"
    }
   ],
   "source": [
    "x = df['population']\n",
    "y = df['suicides/100k pop']\n",
    "\n",
    "correlation= stats.pearsonr(y, x)\n",
    "correlation[0]\n",
    "\n",
    "#Firstly by looking at the correlation we can deduce that the population has a very\n",
    "#weak positive impact on the suicide rate. Now let's see some graph to understand better '''"
   ]
  },
  {
   "cell_type": "code",
   "execution_count": 20,
   "metadata": {},
   "outputs": [
    {
     "name": "stdout",
     "output_type": "stream",
     "text": [
      "country\n",
      "Albania                   62325467\n",
      "Antigua and Barbuda        1990228\n",
      "Argentina               1035985431\n",
      "Armenia                   77348173\n",
      "Aruba                      1259677\n",
      "                           ...    \n",
      "United Arab Emirates      36502275\n",
      "United Kingdom          1738767780\n",
      "United States           8054027201\n",
      "Uruguay                   84068943\n",
      "Uzbekistan               486422532\n",
      "Name: population, Length: 101, dtype: int64\n"
     ]
    }
   ],
   "source": [
    "total_population_by_country = df.groupby('country')['population'].sum()\n",
    "\n",
    "# Print the result\n",
    "print(total_population_by_country)\n"
   ]
  },
  {
   "cell_type": "code",
   "execution_count": 21,
   "metadata": {},
   "outputs": [
    {
     "data": {
      "text/html": [
       "<div>\n",
       "<style scoped>\n",
       "    .dataframe tbody tr th:only-of-type {\n",
       "        vertical-align: middle;\n",
       "    }\n",
       "\n",
       "    .dataframe tbody tr th {\n",
       "        vertical-align: top;\n",
       "    }\n",
       "\n",
       "    .dataframe thead th {\n",
       "        text-align: right;\n",
       "    }\n",
       "</style>\n",
       "<table border=\"1\" class=\"dataframe\">\n",
       "  <thead>\n",
       "    <tr style=\"text-align: right;\">\n",
       "      <th></th>\n",
       "      <th>population</th>\n",
       "      <th>suicides/100k pop</th>\n",
       "    </tr>\n",
       "  </thead>\n",
       "  <tbody>\n",
       "    <tr>\n",
       "      <th>population</th>\n",
       "      <td>1.000000</td>\n",
       "      <td>0.008285</td>\n",
       "    </tr>\n",
       "    <tr>\n",
       "      <th>suicides/100k pop</th>\n",
       "      <td>0.008285</td>\n",
       "      <td>1.000000</td>\n",
       "    </tr>\n",
       "  </tbody>\n",
       "</table>\n",
       "</div>"
      ],
      "text/plain": [
       "                   population  suicides/100k pop\n",
       "population           1.000000           0.008285\n",
       "suicides/100k pop    0.008285           1.000000"
      ]
     },
     "execution_count": 21,
     "metadata": {},
     "output_type": "execute_result"
    }
   ],
   "source": [
    "correlation_matrix = df[['population', 'suicides/100k pop']].corr()\n",
    "correlation_matrix"
   ]
  },
  {
   "cell_type": "code",
   "execution_count": 22,
   "metadata": {},
   "outputs": [
    {
     "data": {
      "image/png": "[encoded data removed]",
      "text/plain": [
       "<Figure size 800x600 with 2 Axes>"
      ]
     },
     "metadata": {},
     "output_type": "display_data"
    }
   ],
   "source": [
    "plt.figure(figsize=(8, 6))\n",
    "sns.heatmap(correlation_matrix, annot=True, cmap='coolwarm', fmt='.2f', linewidths=0.5)\n",
    "plt.title('Correlation Heatmap: Population vs. Suicide Rate')\n",
    "plt.show()\n"
   ]
  },
  {
   "cell_type": "code",
   "execution_count": 23,
   "metadata": {},
   "outputs": [
    {
     "data": {
      "text/plain": [
       "' By looking at the heatmap it is quite prominent that there is no such relation between\\npopulation and suicide rate. We can deduce that higher or lower population has no substantial\\naffect on the suicide rate '"
      ]
     },
     "execution_count": 23,
     "metadata": {},
     "output_type": "execute_result"
    }
   ],
   "source": [
    "''' By looking at the heatmap it is quite prominent that there is no such relation between\n",
    "population and suicide rate. We can deduce that higher or lower population has no substantial\n",
    "affect on the suicide rate '''"
   ]
  },
  {
   "cell_type": "markdown",
   "metadata": {},
   "source": [
    "## What is the effect of the GDP of a country on suicide rates?\n"
   ]
  },
  {
   "cell_type": "code",
   "execution_count": 24,
   "metadata": {},
   "outputs": [
    {
     "data": {
      "text/html": [
       "<div>\n",
       "<style scoped>\n",
       "    .dataframe tbody tr th:only-of-type {\n",
       "        vertical-align: middle;\n",
       "    }\n",
       "\n",
       "    .dataframe tbody tr th {\n",
       "        vertical-align: top;\n",
       "    }\n",
       "\n",
       "    .dataframe thead th {\n",
       "        text-align: right;\n",
       "    }\n",
       "</style>\n",
       "<table border=\"1\" class=\"dataframe\">\n",
       "  <thead>\n",
       "    <tr style=\"text-align: right;\">\n",
       "      <th></th>\n",
       "      <th>country</th>\n",
       "      <th>year</th>\n",
       "      <th>sex</th>\n",
       "      <th>age</th>\n",
       "      <th>suicides_no</th>\n",
       "      <th>population</th>\n",
       "      <th>suicides/100k pop</th>\n",
       "      <th>country-year</th>\n",
       "      <th>gdp_for_year ($)</th>\n",
       "      <th>gdp_per_capita ($)</th>\n",
       "      <th>generation</th>\n",
       "    </tr>\n",
       "  </thead>\n",
       "  <tbody>\n",
       "    <tr>\n",
       "      <th>0</th>\n",
       "      <td>Albania</td>\n",
       "      <td>1987</td>\n",
       "      <td>male</td>\n",
       "      <td>15-24 years</td>\n",
       "      <td>21</td>\n",
       "      <td>312900</td>\n",
       "      <td>6.71</td>\n",
       "      <td>Albania1987</td>\n",
       "      <td>2156624900.00</td>\n",
       "      <td>796.0</td>\n",
       "      <td>Generation X</td>\n",
       "    </tr>\n",
       "    <tr>\n",
       "      <th>1</th>\n",
       "      <td>Albania</td>\n",
       "      <td>1987</td>\n",
       "      <td>male</td>\n",
       "      <td>35-54 years</td>\n",
       "      <td>16</td>\n",
       "      <td>308000</td>\n",
       "      <td>5.19</td>\n",
       "      <td>Albania1987</td>\n",
       "      <td>2156624900.00</td>\n",
       "      <td>796.0</td>\n",
       "      <td>Silent</td>\n",
       "    </tr>\n",
       "    <tr>\n",
       "      <th>2</th>\n",
       "      <td>Albania</td>\n",
       "      <td>1987</td>\n",
       "      <td>female</td>\n",
       "      <td>15-24 years</td>\n",
       "      <td>14</td>\n",
       "      <td>289700</td>\n",
       "      <td>4.83</td>\n",
       "      <td>Albania1987</td>\n",
       "      <td>2156624900.00</td>\n",
       "      <td>796.0</td>\n",
       "      <td>Generation X</td>\n",
       "    </tr>\n",
       "    <tr>\n",
       "      <th>3</th>\n",
       "      <td>Albania</td>\n",
       "      <td>1987</td>\n",
       "      <td>male</td>\n",
       "      <td>75+ years</td>\n",
       "      <td>1</td>\n",
       "      <td>21800</td>\n",
       "      <td>4.59</td>\n",
       "      <td>Albania1987</td>\n",
       "      <td>2156624900.00</td>\n",
       "      <td>796.0</td>\n",
       "      <td>G.I. Generation</td>\n",
       "    </tr>\n",
       "    <tr>\n",
       "      <th>4</th>\n",
       "      <td>Albania</td>\n",
       "      <td>1987</td>\n",
       "      <td>male</td>\n",
       "      <td>25-34 years</td>\n",
       "      <td>9</td>\n",
       "      <td>274300</td>\n",
       "      <td>3.28</td>\n",
       "      <td>Albania1987</td>\n",
       "      <td>2156624900.00</td>\n",
       "      <td>796.0</td>\n",
       "      <td>Boomers</td>\n",
       "    </tr>\n",
       "  </tbody>\n",
       "</table>\n",
       "</div>"
      ],
      "text/plain": [
       "   country  year     sex          age  suicides_no  population  \\\n",
       "0  Albania  1987    male  15-24 years           21      312900   \n",
       "1  Albania  1987    male  35-54 years           16      308000   \n",
       "2  Albania  1987  female  15-24 years           14      289700   \n",
       "3  Albania  1987    male    75+ years            1       21800   \n",
       "4  Albania  1987    male  25-34 years            9      274300   \n",
       "\n",
       "   suicides/100k pop country-year  gdp_for_year ($)   gdp_per_capita ($)  \\\n",
       "0               6.71  Albania1987      2156624900.00               796.0   \n",
       "1               5.19  Albania1987      2156624900.00               796.0   \n",
       "2               4.83  Albania1987      2156624900.00               796.0   \n",
       "3               4.59  Albania1987      2156624900.00               796.0   \n",
       "4               3.28  Albania1987      2156624900.00               796.0   \n",
       "\n",
       "        generation  \n",
       "0     Generation X  \n",
       "1           Silent  \n",
       "2     Generation X  \n",
       "3  G.I. Generation  \n",
       "4          Boomers  "
      ]
     },
     "execution_count": 24,
     "metadata": {},
     "output_type": "execute_result"
    }
   ],
   "source": [
    "df.head()"
   ]
  },
  {
   "cell_type": "code",
   "execution_count": 25,
   "metadata": {},
   "outputs": [
    {
     "data": {
      "text/plain": [
       "0.0017851337973441954"
      ]
     },
     "execution_count": 25,
     "metadata": {},
     "output_type": "execute_result"
    }
   ],
   "source": [
    "''' we have two ways to check the effect of GDP of the suicide rate.\n",
    "As our main aim is too see how gdp affects suicide rate so I'll here take gdp per\n",
    "capita column as it accounts for individual prosperity and standard of living.'''\n",
    "\n",
    "x = df['gdp_per_capita ($)']\n",
    "y = df['suicides/100k pop']\n",
    "\n",
    "correlation= stats.pearsonr(x, y)\n",
    "correlation[0]\n",
    "\n"
   ]
  },
  {
   "cell_type": "code",
   "execution_count": 26,
   "metadata": {},
   "outputs": [
    {
     "data": {
      "text/html": [
       "<div>\n",
       "<style scoped>\n",
       "    .dataframe tbody tr th:only-of-type {\n",
       "        vertical-align: middle;\n",
       "    }\n",
       "\n",
       "    .dataframe tbody tr th {\n",
       "        vertical-align: top;\n",
       "    }\n",
       "\n",
       "    .dataframe thead th {\n",
       "        text-align: right;\n",
       "    }\n",
       "</style>\n",
       "<table border=\"1\" class=\"dataframe\">\n",
       "  <thead>\n",
       "    <tr style=\"text-align: right;\">\n",
       "      <th></th>\n",
       "      <th>gdp_per_capita ($)</th>\n",
       "      <th>suicides/100k pop</th>\n",
       "    </tr>\n",
       "  </thead>\n",
       "  <tbody>\n",
       "    <tr>\n",
       "      <th>gdp_per_capita ($)</th>\n",
       "      <td>1.000000</td>\n",
       "      <td>0.001785</td>\n",
       "    </tr>\n",
       "    <tr>\n",
       "      <th>suicides/100k pop</th>\n",
       "      <td>0.001785</td>\n",
       "      <td>1.000000</td>\n",
       "    </tr>\n",
       "  </tbody>\n",
       "</table>\n",
       "</div>"
      ],
      "text/plain": [
       "                    gdp_per_capita ($)  suicides/100k pop\n",
       "gdp_per_capita ($)            1.000000           0.001785\n",
       "suicides/100k pop             0.001785           1.000000"
      ]
     },
     "execution_count": 26,
     "metadata": {},
     "output_type": "execute_result"
    }
   ],
   "source": [
    "correlation_matrix = df[['gdp_per_capita ($)', 'suicides/100k pop']].corr()\n",
    "correlation_matrix\n",
    "\n",
    "#Firstly by looking at the correlation we can deduce that the population has a very\n",
    "#weak positive impact on the suicide rate. Now let's see some graph to understand better "
   ]
  },
  {
   "cell_type": "code",
   "execution_count": 27,
   "metadata": {},
   "outputs": [
    {
     "data": {
      "image/png": "[encoded data removed]",
      "text/plain": [
       "<Figure size 800x600 with 2 Axes>"
      ]
     },
     "metadata": {},
     "output_type": "display_data"
    }
   ],
   "source": [
    "plt.figure(figsize=(8, 6))\n",
    "sns.heatmap(correlation_matrix, annot=True, cmap='coolwarm', fmt='.2f', linewidths=0.5)\n",
    "plt.title('Correlation Heatmap: GDP Per Capita vs. Suicide Rate')\n",
    "plt.show()\n",
    "\n",
    "# From the heatmap it is quite evident that GPD per capita has no effect on suicide rate"
   ]
  },
  {
   "cell_type": "markdown",
   "metadata": {},
   "source": [
    "## What is the trend of suicide rates across all the years?"
   ]
  },
  {
   "cell_type": "code",
   "execution_count": 30,
   "metadata": {},
   "outputs": [
    {
     "data": {
      "image/png": "[encoded data removed]",
      "text/plain": [
       "<Figure size 640x480 with 1 Axes>"
      ]
     },
     "metadata": {},
     "output_type": "display_data"
    }
   ],
   "source": [
    "x = df['year']\n",
    "y = df['suicides/100k pop']\n",
    "\n",
    "sns.set(style=\"whitegrid\") \n",
    "sns.lineplot(x=x, y=y, data=df, marker='o', color='b')\n",
    "\n",
    "plt.title('Suicide Rates Over Years')\n",
    "plt.xlabel('Year')\n",
    "plt.ylabel('Suicides per 100k Population')\n",
    "\n",
    "plt.show()\n",
    "\n",
    "# Here we can see the suicide rate kept increasing from the late 1980's to reaching it's peak in 1985.\n",
    "# We then see a drop in it over the years till 2015, after which in again starts to increase!"
   ]
  },
  {
   "cell_type": "code",
   "execution_count": 33,
   "metadata": {},
   "outputs": [],
   "source": [
    "# # Let's now use suicide_no to see the trend according to the number of suicides\n",
    "# x = df['year']\n",
    "# y = df['suicides_no']\n",
    "\n",
    "# sns.set(style=\"whitegrid\") \n",
    "# sns.lineplot(x=x, y=y, data=df, marker='o', color='b')\n",
    "\n",
    "# plt.title('Suicide Rates Over Years')\n",
    "# plt.xlabel('Year')\n",
    "# plt.ylabel('Suicides per 100k Population')\n",
    "\n",
    "# plt.show()\n",
    "\n"
   ]
  },
  {
   "cell_type": "markdown",
   "metadata": {},
   "source": [
    "## Is there a difference between the suicide rates of men and women?"
   ]
  },
  {
   "cell_type": "code",
   "execution_count": 44,
   "metadata": {},
   "outputs": [
    {
     "data": {
      "image/png": "[encoded data removed]",
      "text/plain": [
       "<Figure size 640x480 with 1 Axes>"
      ]
     },
     "metadata": {},
     "output_type": "display_data"
    }
   ],
   "source": [
    "x = df['sex']\n",
    "y = df['suicides_no']\n",
    "\n",
    "#Let's use a barplot to see the results\n",
    "\n",
    "sns.barplot(data=df, x=x, y=y)\n",
    "#plt.ylim(np.min(y), np.max(y))\n",
    "plt.xlabel('Age Group')\n",
    "plt.ylabel('Suicide numbers')\n",
    "plt.title('Suicide Rate by Age Group')\n",
    "plt.show()\n",
    "\n"
   ]
  },
  {
   "cell_type": "code",
   "execution_count": 46,
   "metadata": {},
   "outputs": [
    {
     "data": {
      "image/png": "[encoded data removed]",
      "text/plain": [
       "<Figure size 640x480 with 1 Axes>"
      ]
     },
     "metadata": {},
     "output_type": "display_data"
    }
   ],
   "source": [
    "# Now let's see the results with a scatterplot\n",
    "\n",
    "sns.scatterplot(data=df, x=x, y=y)\n",
    "plt.xlabel('Age Group')\n",
    "plt.ylabel('Suicide Rate')\n",
    "plt.title('Suicide Rate by Age Group')\n",
    "plt.show()\n",
    "\n",
    "# The scatterplot clearly shows that men tend to have a very high suicide rate in comparison to the females.\n",
    "# It shows to prove the point that sex has a definite effect on the suicide rate."
   ]
  },
  {
   "cell_type": "code",
   "execution_count": null,
   "metadata": {},
   "outputs": [],
   "source": []
  }
 ],
 "metadata": {
  "kernelspec": {
   "display_name": "Python 3",
   "language": "python",
   "name": "python3"
  },
  "language_info": {
   "codemirror_mode": {
    "name": "ipython",
    "version": 3
   },
   "file_extension": ".py",
   "mimetype": "text/x-python",
   "name": "python",
   "nbconvert_exporter": "python",
   "pygments_lexer": "ipython3",
   "version": "3.10.0"
  }
 },
 "nbformat": 4,
 "nbformat_minor": 2
}
